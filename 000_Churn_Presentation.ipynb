{
 "cells": [
  {
   "cell_type": "markdown",
   "id": "b84af32d",
   "metadata": {
    "slideshow": {
     "slide_type": "slide"
    }
   },
   "source": [
    "# Customer Churn\n",
    "Presentation by Mark Graham  \n",
    "7th March 2020  \n",
    "All code available @https://github.com/MarkGGraham/Churn\n",
    "## Introduction  \n",
    "This project is my **quick** attempt to glean some value from your data."
   ]
  },
  {
   "cell_type": "markdown",
   "id": "a0aba0d4",
   "metadata": {
    "slideshow": {
     "slide_type": "subslide"
    }
   },
   "source": [
    "## Objectives\n",
    "- Let's see if we can extract value from your data\n",
    "- Let's try to answer some sample business questions such as:\n",
    "    - Why are we losing customers?\n",
    "    - Can we take some action which might lead to lower the churn rate?\n",
    "    - What is our most popular product bundle?\n",
    "    "
   ]
  },
  {
   "cell_type": "markdown",
   "id": "4f74a218",
   "metadata": {
    "slideshow": {
     "slide_type": "subslide"
    }
   },
   "source": [
    "## Steps\n",
    "\n",
    "### 1. [Load some sample data](./001_Churn_EDA.ipynb)\n",
    "### 2. [Model the data](http://localhost:8080/browser/#)\n",
    "### 3. [Sample Reports](./003_Reports.ipynb)\n",
    "- [Churn Rates](./003_Churn.ipynb)\n",
    "     - Look at Churn rates by various dimensions\n",
    "- [Correlation Matrix](./004_Correlation_Matrix.ipynb)\n",
    "     - Look at correlation between attributes\n",
    "- [Popular Products](./005_Product_Bundles.ipynb)\n",
    "     - Look at Products and \"bundles\""
   ]
  },
  {
   "cell_type": "markdown",
   "id": "3ae28a2f",
   "metadata": {
    "slideshow": {
     "slide_type": "subslide"
    }
   },
   "source": [
    "## Conclusions\n",
    "\n",
    "- We don't have enough data to make any business decisions..however.\n",
    "- It seems that customers who have Fiber Internet seem to churn at a higher rate than DSL customers\n",
    "- A Single Phone line is the most popular product for this month\n",
    "- Streaming TV and Streaming Movies is the most popular product bundle\n"
   ]
  },
  {
   "cell_type": "markdown",
   "id": "5a3e0f35",
   "metadata": {
    "slideshow": {
     "slide_type": "subslide"
    }
   },
   "source": [
    "## Next Steps\n",
    "- Questions and Answers \n",
    "     - Feedback to mgraham1309@yahoo.co.uk  \n",
    "     \n",
    "- Load a full sub-set of your data\n",
    "- Get some requirements from you\n",
    "- Model data to predict churn"
   ]
  }
 ],
 "metadata": {
  "celltoolbar": "Slideshow",
  "kernelspec": {
   "display_name": "Python 3 (ipykernel)",
   "language": "python",
   "name": "python3"
  },
  "language_info": {
   "codemirror_mode": {
    "name": "ipython",
    "version": 3
   },
   "file_extension": ".py",
   "mimetype": "text/x-python",
   "name": "python",
   "nbconvert_exporter": "python",
   "pygments_lexer": "ipython3",
   "version": "3.7.1"
  }
 },
 "nbformat": 4,
 "nbformat_minor": 5
}
