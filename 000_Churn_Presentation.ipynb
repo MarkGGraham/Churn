{
 "cells": [
  {
   "cell_type": "markdown",
   "id": "800e2a6e",
   "metadata": {
    "slideshow": {
     "slide_type": "slide"
    }
   },
   "source": [
    "# Customer Churn\n",
    "Presentation by Mark Graham  \n",
    "7th March 2020  \n",
    "All code available @https://github.com/MarkGGraham/Churn\n",
    "## Introduction  \n",
    "This project is my **quick** attempt to glean some value from your data."
   ]
  },
  {
   "cell_type": "markdown",
   "id": "8f248c3f",
   "metadata": {
    "slideshow": {
     "slide_type": "subslide"
    }
   },
   "source": [
    "## Objectives\n",
    "- Let's see if we can extract value from your data\n",
    "- Let's try to answer some sample business questions such as:\n",
    "    - Why are we losing customers?\n",
    "    - Can we take some action which might lead to lower the churn rate?\n",
    "    - What is our most popular product bundle?\n",
    "    \n",
    "#### Let's get started!"
   ]
  },
  {
   "cell_type": "markdown",
   "id": "28453939",
   "metadata": {
    "slideshow": {
     "slide_type": "subslide"
    }
   },
   "source": [
    "\n",
    "### 1. [Load some sample data](./001_Churn_EDA.ipynb)\n",
    "### 2. [Model the data](http://localhost:8080/browser/#)\n",
    "### 3. Answer some business questions\n",
    "     - Indented item\n",
    "     - Indented item\n",
    "### 4. [Reports](./003_Reports.ipynb)\n",
    "- [Contract Type](./003_Contract_Churn.ipynb)\n",
    "     - Look at Churn rates by Contract Type\n",
    "- [Correlation Matrix](./004_Correlation_Matrix.ipynb)\n",
    "     - Look at correlation between attributes\n",
    "- [Contract Charges](./005_Contract_Churn.ipynb)\n",
    "     - Look at Charges Contract Type\n"
   ]
  }
 ],
 "metadata": {
  "celltoolbar": "Slideshow",
  "kernelspec": {
   "display_name": "Python 3 (ipykernel)",
   "language": "python",
   "name": "python3"
  },
  "language_info": {
   "codemirror_mode": {
    "name": "ipython",
    "version": 3
   },
   "file_extension": ".py",
   "mimetype": "text/x-python",
   "name": "python",
   "nbconvert_exporter": "python",
   "pygments_lexer": "ipython3",
   "version": "3.7.1"
  }
 },
 "nbformat": 4,
 "nbformat_minor": 5
}
